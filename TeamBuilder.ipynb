{
 "cells": [
  {
   "cell_type": "code",
   "execution_count": 1,
   "metadata": {},
   "outputs": [],
   "source": [
    "from qiskit import *\n",
    "from qiskit.visualization import plot_histogram\n",
    "import numpy as np"
   ]
  },
  {
   "cell_type": "markdown",
   "metadata": {},
   "source": [
    "<div>\n",
    "    <strong>Inputs for circuit</strong>\n",
    "    <p>\n",
    "        To use this circuit, you simply specify people and their skills as a dictionary below called <i>person_to_skill</i>. The skills needed in the groups are specified as the list <i>skill_in_group</i>.\n",
    "    </p>\n",
    "    <p>\n",
    "    There are also certain other parameters you are able to tweak. For one we you can controll the number of itterations the Grover Search performs. If youre results does not yield any amplified groups, you might consider raising or lowering the <i>iterations</i>. Note that it is also possible that a too high number of iterations will cause the algorithm to overshoot.\n",
    "    </p>\n",
    "    <p>\n",
    "    Also note that currently this problem is not being run on a quantum computer, but rather it is being simulated. This means that speed-up advantages of quantum computers will not be seen here. Results for large inputs might take very long as well, so try not to either add too many people or too many skills as this will cause exponential slowdowns. Unless of course you have a very fast computer or you don't mind waiting some time.\n",
    "    </p>\n",
    "    <p>\n",
    "        If the number of inputs gets too high, it might also be an idea to turn <i>print_circuit</i> off as well, as this can take a long time too.\n",
    "    </p>\n",
    "</div>"
   ]
  },
  {
   "cell_type": "code",
   "execution_count": 2,
   "metadata": {},
   "outputs": [],
   "source": [
    "print_circuit = False\n",
    "iterations = 2\n",
    "\n",
    "person_to_skill = {\n",
    "    #'A': ['a', 'b', 'c', 'd', 'e', 'f', 'g', 'h'],\n",
    "    #'B': ['d', 'e', 'f', 'g', 'h', 'i', 'j', 'k'],\n",
    "    'C': ['g', 'h', 'i', 'j', 'k', 'l', 'm', 'n'],\n",
    "    'D': ['k', 'l', 'm', 'n', 'o', 'p', 'q', 'r'],\n",
    "    'E': ['n', 'o', 'p', 'q', 'r', 's', 't', 'u'],\n",
    "    'F': ['a', 'b', 'c', 'r', 's', 't', 'u', 'v', 'w', 'x', 'y', 'z'],\n",
    "    #'G': ['a', 'e', 'i', 'o', 'u', 'y'],\n",
    "    'H': ['b', 'c', 'e', 'g', 'k', 'm', 'q', 's', 'x'],\n",
    "}\n",
    "skill_in_group = ['l', 'q', 's']"
   ]
  },
  {
   "cell_type": "code",
   "execution_count": 3,
   "metadata": {},
   "outputs": [],
   "source": [
    "person_order = person_to_skill.keys()"
   ]
  },
  {
   "cell_type": "code",
   "execution_count": 4,
   "metadata": {},
   "outputs": [],
   "source": [
    "def invert(qc, qubits):\n",
    "    for qubit in qubits:\n",
    "        qc.x(qubit)"
   ]
  },
  {
   "cell_type": "code",
   "execution_count": 5,
   "metadata": {},
   "outputs": [],
   "source": [
    "def collect(qc, creg, output, person_to_skill, person_to_qubit, skill_in_group, exclude):\n",
    "    for position, skill in enumerate(skill_in_group):\n",
    "        qubit_with_skill = [ qubit for person, qubit in person_to_qubit.items() if skill in person_to_skill[person] and person != exclude ]\n",
    "        \n",
    "        if qubit_with_skill:\n",
    "            qc.mct(qubit_with_skill, creg[position])\n",
    "        else:\n",
    "            qc.x(creg[position])\n",
    "    \n",
    "    # Collect on output\n",
    "    collect_qubits = [ qubit for qubit in creg ]\n",
    "    if exclude:\n",
    "        exclude_qubit = person_to_qubit[exclude]\n",
    "        qc.x(exclude_qubit)\n",
    "        collect_qubits += [ exclude_qubit ]\n",
    "        \n",
    "    qc.mct(collect_qubits, output)\n",
    "    if exclude:\n",
    "        qc.x(exclude_qubit)\n",
    "    \n",
    "    \n",
    "    # Uncompute on constraints\n",
    "    for position, skill in enumerate(skill_in_group):\n",
    "        qubit_with_skill = [ qubit for person, qubit in person_to_qubit.items() if skill in person_to_skill[person] and person != exclude ]\n",
    "        \n",
    "        if qubit_with_skill:\n",
    "            qc.mct(qubit_with_skill, creg[position])\n",
    "        else:\n",
    "            qc.x(creg[position])"
   ]
  },
  {
   "cell_type": "code",
   "execution_count": 6,
   "metadata": {},
   "outputs": [],
   "source": [
    "# Create the selective function - This will tie together all the skills and such\n",
    "def oracle(qc, registers, person_to_skill, person_order, skill_in_group):\n",
    "    # Extract registers\n",
    "    preg = registers[0]\n",
    "    creg = registers[1]\n",
    "    ereg = registers[2]\n",
    "    oreg = registers[3]\n",
    "    \n",
    "    \n",
    "    # We surround all pregs with reverses\n",
    "    invert(qc, preg)\n",
    "    \n",
    "    qc.barrier()\n",
    "    \n",
    "    # Create initial validation\n",
    "    person_to_qubit = { person: qubit for qubit, person in zip(preg, person_order)}\n",
    "    collect(qc, creg, oreg[0], person_to_skill, person_to_qubit, skill_in_group, None)\n",
    "    qc.barrier()\n",
    "    \n",
    "    # Create excess validations\n",
    "    for position, person in enumerate(person_order):\n",
    "        collect(qc, creg, ereg[position], person_to_skill, person_to_qubit, skill_in_group, person)\n",
    "        qc.barrier()\n",
    "    \n",
    "    # Collect excess to output\n",
    "    invert(qc, ereg)\n",
    "    qc.x(oreg[0])\n",
    "    qc.mct(ereg, oreg[0])\n",
    "    invert(qc, ereg)\n",
    "    qc.barrier()\n",
    "    \n",
    "    # Uncompute excess validations\n",
    "    for position, person in enumerate(person_order):\n",
    "        collect(qc, creg, ereg[position], person_to_skill, person_to_qubit, skill_in_group, person)\n",
    "        qc.barrier()\n",
    "    \n",
    "    # Uncompute initial inversion\n",
    "    invert(qc, preg)\n",
    "    "
   ]
  },
  {
   "cell_type": "code",
   "execution_count": 7,
   "metadata": {},
   "outputs": [],
   "source": [
    "def diffuser(num_person):\n",
    "    qc = QuantumCircuit(num_person)\n",
    "    \n",
    "    # Apply hadamards and nots\n",
    "    for qubit in range(num_person):\n",
    "        qc.h(qubit)\n",
    "        qc.x(qubit)\n",
    "        \n",
    "    # Multi controlled Z\n",
    "    qc.h(num_person - 1)\n",
    "    qc.mct(list(range(num_person - 1)), num_person - 1)\n",
    "    qc.h(num_person - 1)\n",
    "    \n",
    "    #Apply nots and hadamards\n",
    "    for qubit in range(num_person):\n",
    "        qc.x(qubit)\n",
    "        qc.h(qubit)\n",
    "        \n",
    "    U_s = qc.to_gate()\n",
    "    U_s.name = \"U$_s$\"\n",
    "    return U_s"
   ]
  },
  {
   "cell_type": "code",
   "execution_count": 8,
   "metadata": {},
   "outputs": [],
   "source": [
    "def extract_result(counts):\n",
    "    average = sum(counts.values()) / len(counts.values())\n",
    "    \n",
    "    # Extract everyone over the average\n",
    "    wins = [ comb for comb in counts.keys() if counts[comb] > average ]\n",
    "    return wins"
   ]
  },
  {
   "cell_type": "code",
   "execution_count": 9,
   "metadata": {},
   "outputs": [],
   "source": [
    "def comb_to_group(comb, person_order):\n",
    "    return ''.join([ person_order[position] for position, letter in enumerate(reversed(str(comb))) if int(letter) ])"
   ]
  },
  {
   "cell_type": "code",
   "execution_count": 10,
   "metadata": {},
   "outputs": [],
   "source": [
    "# Setup Circuit\n",
    "p_len = len(person_order)\n",
    "c_len = len(skill_in_group)\n",
    "e_len = len(person_order)\n",
    "\n",
    "preg = QuantumRegister(p_len, 'p')   # For storing person - will be superpositioned\n",
    "creg = QuantumRegister(c_len, 'c')   # For combination storage\n",
    "ereg = QuantumRegister(e_len, 'e')   # For computing excess people\n",
    "oreg = QuantumRegister(1, 'out')\n",
    "\n",
    "#mreg = ClassicalRegister(num_person + num_excess + 1, 'm')\n",
    "mreg = ClassicalRegister(p_len, 'm')\n",
    "qc = QuantumCircuit(preg, creg, ereg, oreg, mreg)"
   ]
  },
  {
   "cell_type": "code",
   "execution_count": 11,
   "metadata": {},
   "outputs": [],
   "source": [
    "#Initialize Super positions\n",
    "for qubit in preg:\n",
    "    qc.h(qubit)\n",
    "\n",
    "# Set our combination qubits\n",
    "for qubit in creg:\n",
    "    qc.x(qubit)\n",
    "\n",
    "# Initialize output state in |->\n",
    "qc.initialize([1, -1]/np.sqrt(2), oreg[0])\n",
    "\n",
    "for _ in range(iterations):\n",
    "    oracle(qc, [preg, creg, ereg, oreg], person_to_skill, person_order, skill_in_group)\n",
    "    qc.append(diffuser(p_len), preg)\n",
    "    qc.barrier()\n",
    "\n",
    "#qc.measure([qubit for qubit in preg] + [ qubit for qubit in ereg] + [ oreg[0] ], [cbit for cbit in mreg])\n",
    "qc.measure([qubit for qubit in preg], [cbit for cbit in mreg])\n",
    "\n",
    "if print_circuit:\n",
    "    qc.draw('mpl')"
   ]
  },
  {
   "cell_type": "code",
   "execution_count": 12,
   "metadata": {},
   "outputs": [
    {
     "data": {
      "image/png": "[encoded data removed]",
      "text/plain": [
       "<Figure size 504x360 with 1 Axes>"
      ]
     },
     "execution_count": 12,
     "metadata": {},
     "output_type": "execute_result"
    }
   ],
   "source": [
    "# Select the QasmSimulator from the Aer provider\n",
    "simulator = Aer.get_backend('qasm_simulator')\n",
    "\n",
    "# Execute and get counts\n",
    "result = execute(qc, simulator, shots=256).result()\n",
    "counts = result.get_counts(qc)\n",
    "plot_histogram(counts, title='Group Shots')"
   ]
  },
  {
   "cell_type": "code",
   "execution_count": 13,
   "metadata": {
    "scrolled": true
   },
   "outputs": [
    {
     "name": "stdout",
     "output_type": "stream",
     "text": [
      "['CH', 'DH', 'CE', 'DE', 'DF']\n"
     ]
    }
   ],
   "source": [
    "comb_res = extract_result(counts)\n",
    "group_res = [ comb_to_group(comb, list(person_order)) for comb in comb_res ]\n",
    "print(group_res)"
   ]
  }
 ],
 "metadata": {
  "kernelspec": {
   "display_name": "Python 3",
   "language": "python",
   "name": "python3"
  },
  "language_info": {
   "codemirror_mode": {
    "name": "ipython",
    "version": 3
   },
   "file_extension": ".py",
   "mimetype": "text/x-python",
   "name": "python",
   "nbconvert_exporter": "python",
   "pygments_lexer": "ipython3",
   "version": "3.8.5"
  }
 },
 "nbformat": 4,
 "nbformat_minor": 4
}
